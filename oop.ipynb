{
 "cells": [
  {
   "cell_type": "code",
   "execution_count": 6,
   "metadata": {},
   "outputs": [
    {
     "output_type": "stream",
     "name": "stdout",
     "text": [
      "Hello Opp\nlet's play the game\n"
     ]
    }
   ],
   "source": [
    "class Phone: # Declaring the class\n",
    "    def make_call(self): # creating method/behaviour here self is used to call the method Note:- first parameter should be self\n",
    "        print('Hello Opp')\n",
    "    \n",
    "    def play_game(self):\n",
    "        print(\"let's play the game\")\n",
    "        \n",
    "phone1 = Phone() # Creating Object/property \n",
    "\n",
    "phone1.make_call() # calling the method\n",
    "phone1.play_game()"
   ]
  },
  {
   "cell_type": "code",
   "execution_count": 7,
   "metadata": {},
   "outputs": [
    {
     "output_type": "execute_result",
     "data": {
      "text/plain": [
       "'Red'"
      ]
     },
     "metadata": {},
     "execution_count": 7
    }
   ],
   "source": [
    "class Phone2: # Declaring the class\n",
    "        \n",
    "    def set_color(self , color): \n",
    "        self.colorz = color\n",
    "    \n",
    "    def set_cost(self, cost):\n",
    "        self.costz=cost\n",
    "        \n",
    "    \n",
    "        \n",
    "    def call_color(self):\n",
    "        return self.colorz\n",
    "    \n",
    "    def call_cost(self):\n",
    "        return self.costz\n",
    "    \n",
    "\n",
    "    \n",
    "p2 = Phone2()\n",
    "\n",
    "p2.set_color('Red')\n",
    "p2.set_cost(10099)\n",
    "\n",
    "p2.call_color()\n",
    "\n"
   ]
  },
  {
   "cell_type": "code",
   "execution_count": 8,
   "metadata": {},
   "outputs": [
    {
     "output_type": "execute_result",
     "data": {
      "text/plain": [
       "10099"
      ]
     },
     "metadata": {},
     "execution_count": 8
    }
   ],
   "source": [
    "p2.call_cost()"
   ]
  },
  {
   "cell_type": "code",
   "execution_count": 9,
   "metadata": {},
   "outputs": [
    {
     "output_type": "stream",
     "name": "stdout",
     "text": [
      "Brand Name: Apple\nModel Name: Iphone-7\nDate of Release: 2021\n"
     ]
    }
   ],
   "source": [
    "# Constructors\n",
    "\n",
    "class Mobile:\n",
    "    def __init__(self , company , model , dor): # Used to pass argument to the object\n",
    "        self.companyname = company\n",
    "        self.modelname = model\n",
    "        self.date_of_relese = dor\n",
    "        \n",
    "    def mobile(self):\n",
    "        print('Brand Name: {}'.format(self.companyname))\n",
    "        print('Model Name: {}'.format(self.modelname))\n",
    "        print('Date of Release: {}'.format(self.date_of_relese))\n",
    "\n",
    "m1 = Mobile('Apple' , 'Iphone-7' , '2021')\n",
    "     \n",
    "m1.mobile()"
   ]
  },
  {
   "cell_type": "code",
   "execution_count": 10,
   "metadata": {},
   "outputs": [
    {
     "output_type": "stream",
     "name": "stdout",
     "text": [
      "car\nMilage of car is 200\nCost of car is 300\n"
     ]
    }
   ],
   "source": [
    "# Inheritence\n",
    "\n",
    "## Parent Class/Super Class\n",
    "class Vehicle:\n",
    "    def __init__(self , milage , cost):\n",
    "        self.milage = milage\n",
    "        self.cost = cost\n",
    "        \n",
    "    def show(self):\n",
    "        print('Milage of car is {}'.format(self.milage))\n",
    "        print('Cost of car is {}'.format(self.cost))\n",
    "        \n",
    "# v1 = Vehicle(200 , 300)\n",
    "# v1.show()\n",
    "        \n",
    "## Child Class\n",
    "class Car(Vehicle):\n",
    "    def car_details(self):\n",
    "        print('car')\n",
    "    \n",
    "c1 = Car(200 , 300)\n",
    "c1.car_details()\n",
    "c1.show()\n"
   ]
  },
  {
   "cell_type": "code",
   "execution_count": 11,
   "metadata": {},
   "outputs": [
    {
     "output_type": "stream",
     "name": "stdout",
     "text": [
      "car\nHose Power: 23\nTyres: 4\nMilage: 20\nCost: 100000\n"
     ]
    }
   ],
   "source": [
    "# Inheritance when clild class have constructor\n",
    "\n",
    "class Vehicle:\n",
    "    \n",
    "    def __init__(self , milage , cost):\n",
    "        self.milage = milage\n",
    "        self.cost = cost\n",
    "        \n",
    "    def show(self):\n",
    "        print('Milage: {}'.format(self.milage))\n",
    "        print('Cost: {}'.format(self.cost))\n",
    "        \n",
    "\n",
    "class Car(Vehicle):\n",
    "    \n",
    "    def __init__(self , milage , cost , hp , tyres):\n",
    "        super().__init__(milage , cost) # used to pass values to function of parent class\n",
    "        self.hp = hp\n",
    "        self.tyres = tyres\n",
    "        \n",
    "    \n",
    "    def show_det(self):    \n",
    "        print('car')\n",
    "        print('Hose Power: {}'.format(self.hp))\n",
    "        print('Tyres: {}'.format(self.tyres))\n",
    "        \n",
    "c1 = Car(20 , 100000 , 23 , 4)\n",
    "\n",
    "c1.show_det()\n",
    "c1.show()\n"
   ]
  },
  {
   "cell_type": "code",
   "execution_count": 12,
   "metadata": {},
   "outputs": [
    {
     "output_type": "execute_result",
     "data": {
      "text/plain": [
       "1"
      ]
     },
     "metadata": {},
     "execution_count": 12
    }
   ],
   "source": [
    "# Multi Inheritence - Here child is inhertented from more then 1 parent\n",
    "\n",
    "class Parent1:\n",
    "    def valuep1(self , str1):\n",
    "        self.string1 = str1\n",
    "        \n",
    "    def show_value1(self):\n",
    "        return self.string1\n",
    "\n",
    "class Parent2:\n",
    "    def valuep2(self , str2):\n",
    "        self.string2 = str2\n",
    "        \n",
    "    def show_value2(self):\n",
    "        return self.string2      \n",
    "    \n",
    "    \n",
    "class Child(Parent1, Parent2):\n",
    "    \n",
    "    def valuep3(self , str3):\n",
    "        self.string3 = str3\n",
    "        \n",
    "    def show_value3(self):\n",
    "        return self.string3\n",
    "    \n",
    "child = Child()\n",
    "\n",
    "child.valuep1(1)\n",
    "child.valuep2(2)\n",
    "child.valuep3(3)\n",
    "\n",
    "child.show_value1()\n",
    "\n",
    "\n"
   ]
  },
  {
   "cell_type": "code",
   "execution_count": 13,
   "metadata": {},
   "outputs": [
    {
     "output_type": "execute_result",
     "data": {
      "text/plain": [
       "2"
      ]
     },
     "metadata": {},
     "execution_count": 13
    }
   ],
   "source": [
    "child.show_value2()\n"
   ]
  },
  {
   "cell_type": "code",
   "execution_count": 14,
   "metadata": {},
   "outputs": [
    {
     "output_type": "execute_result",
     "data": {
      "text/plain": [
       "3"
      ]
     },
     "metadata": {},
     "execution_count": 14
    }
   ],
   "source": [
    "child.show_value3()"
   ]
  },
  {
   "cell_type": "code",
   "execution_count": 15,
   "metadata": {},
   "outputs": [
    {
     "output_type": "execute_result",
     "data": {
      "text/plain": [
       "1"
      ]
     },
     "metadata": {},
     "execution_count": 15
    }
   ],
   "source": [
    "# Multilevel Inheritance - Here we have Parent, Child, GrandChild\n",
    "\n",
    "class Parent:\n",
    "    def valuep1(self , str1):\n",
    "        self.string1 = str1\n",
    "        \n",
    "    def show_value1(self):\n",
    "        return self.string1\n",
    "    \n",
    "class Child(Parent):\n",
    "    \n",
    "    def valuep3(self , str3):\n",
    "        self.string3 = str3\n",
    "        \n",
    "    def show_value3(self):\n",
    "        return self.string3\n",
    "    \n",
    "class GrandChild(Child):\n",
    "    def valuep2(self , str2):\n",
    "        self.string2 = str2\n",
    "        \n",
    "    def show_value2(self):\n",
    "        return self.string2 \n",
    "    \n",
    "g1 = GrandChild()\n",
    "\n",
    "g1.valuep1(1)\n",
    "g1.valuep2(2)\n",
    "g1.valuep3(3)\n",
    "\n",
    "g1.show_value1()\n"
   ]
  },
  {
   "cell_type": "code",
   "execution_count": 16,
   "metadata": {},
   "outputs": [
    {
     "output_type": "execute_result",
     "data": {
      "text/plain": [
       "2"
      ]
     },
     "metadata": {},
     "execution_count": 16
    }
   ],
   "source": [
    "g1.show_value2()"
   ]
  },
  {
   "cell_type": "code",
   "execution_count": 17,
   "metadata": {},
   "outputs": [
    {
     "output_type": "execute_result",
     "data": {
      "text/plain": [
       "3"
      ]
     },
     "metadata": {},
     "execution_count": 17
    }
   ],
   "source": [
    "g1.show_value3()"
   ]
  },
  {
   "cell_type": "code",
   "execution_count": 1,
   "metadata": {},
   "outputs": [],
   "source": [
    "## Completed"
   ]
  },
  {
   "cell_type": "code",
   "execution_count": null,
   "metadata": {},
   "outputs": [],
   "source": []
  }
 ],
 "metadata": {
  "kernelspec": {
   "name": "python385jvsc74a57bd0b3ba2566441a7c06988d0923437866b63cedc61552a5af99d1f4fb67d367b25f",
   "display_name": "Python 3.8.5 64-bit ('base': conda)"
  },
  "language_info": {
   "codemirror_mode": {
    "name": "ipython",
    "version": 3
   },
   "file_extension": ".py",
   "mimetype": "text/x-python",
   "name": "python",
   "nbconvert_exporter": "python",
   "pygments_lexer": "ipython3",
   "version": "3.8.5"
  }
 },
 "nbformat": 4,
 "nbformat_minor": 4
}